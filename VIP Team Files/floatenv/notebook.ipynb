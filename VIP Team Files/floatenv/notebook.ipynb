{
 "cells": [
  {
   "cell_type": "markdown",
   "metadata": {},
   "source": [
    "### Title ###"
   ]
  },
  {
   "cell_type": "code",
   "execution_count": 1,
   "metadata": {},
   "outputs": [
    {
     "name": "stderr",
     "output_type": "stream",
     "text": [
      "c:\\users\\rlisu\\anaconda3\\envs\\floatenv\\lib\\site-packages\\tensorflow\\python\\framework\\dtypes.py:516: FutureWarning: Passing (type, 1) or '1type' as a synonym of type is deprecated; in a future version of numpy, it will be understood as (type, (1,)) / '(1,)type'.\n",
      "  _np_qint8 = np.dtype([(\"qint8\", np.int8, 1)])\n",
      "c:\\users\\rlisu\\anaconda3\\envs\\floatenv\\lib\\site-packages\\tensorflow\\python\\framework\\dtypes.py:517: FutureWarning: Passing (type, 1) or '1type' as a synonym of type is deprecated; in a future version of numpy, it will be understood as (type, (1,)) / '(1,)type'.\n",
      "  _np_quint8 = np.dtype([(\"quint8\", np.uint8, 1)])\n",
      "c:\\users\\rlisu\\anaconda3\\envs\\floatenv\\lib\\site-packages\\tensorflow\\python\\framework\\dtypes.py:518: FutureWarning: Passing (type, 1) or '1type' as a synonym of type is deprecated; in a future version of numpy, it will be understood as (type, (1,)) / '(1,)type'.\n",
      "  _np_qint16 = np.dtype([(\"qint16\", np.int16, 1)])\n",
      "c:\\users\\rlisu\\anaconda3\\envs\\floatenv\\lib\\site-packages\\tensorflow\\python\\framework\\dtypes.py:519: FutureWarning: Passing (type, 1) or '1type' as a synonym of type is deprecated; in a future version of numpy, it will be understood as (type, (1,)) / '(1,)type'.\n",
      "  _np_quint16 = np.dtype([(\"quint16\", np.uint16, 1)])\n",
      "c:\\users\\rlisu\\anaconda3\\envs\\floatenv\\lib\\site-packages\\tensorflow\\python\\framework\\dtypes.py:520: FutureWarning: Passing (type, 1) or '1type' as a synonym of type is deprecated; in a future version of numpy, it will be understood as (type, (1,)) / '(1,)type'.\n",
      "  _np_qint32 = np.dtype([(\"qint32\", np.int32, 1)])\n",
      "c:\\users\\rlisu\\anaconda3\\envs\\floatenv\\lib\\site-packages\\tensorflow\\python\\framework\\dtypes.py:525: FutureWarning: Passing (type, 1) or '1type' as a synonym of type is deprecated; in a future version of numpy, it will be understood as (type, (1,)) / '(1,)type'.\n",
      "  np_resource = np.dtype([(\"resource\", np.ubyte, 1)])\n",
      "c:\\users\\rlisu\\anaconda3\\envs\\floatenv\\lib\\site-packages\\tensorboard\\compat\\tensorflow_stub\\dtypes.py:541: FutureWarning: Passing (type, 1) or '1type' as a synonym of type is deprecated; in a future version of numpy, it will be understood as (type, (1,)) / '(1,)type'.\n",
      "  _np_qint8 = np.dtype([(\"qint8\", np.int8, 1)])\n",
      "c:\\users\\rlisu\\anaconda3\\envs\\floatenv\\lib\\site-packages\\tensorboard\\compat\\tensorflow_stub\\dtypes.py:542: FutureWarning: Passing (type, 1) or '1type' as a synonym of type is deprecated; in a future version of numpy, it will be understood as (type, (1,)) / '(1,)type'.\n",
      "  _np_quint8 = np.dtype([(\"quint8\", np.uint8, 1)])\n",
      "c:\\users\\rlisu\\anaconda3\\envs\\floatenv\\lib\\site-packages\\tensorboard\\compat\\tensorflow_stub\\dtypes.py:543: FutureWarning: Passing (type, 1) or '1type' as a synonym of type is deprecated; in a future version of numpy, it will be understood as (type, (1,)) / '(1,)type'.\n",
      "  _np_qint16 = np.dtype([(\"qint16\", np.int16, 1)])\n",
      "c:\\users\\rlisu\\anaconda3\\envs\\floatenv\\lib\\site-packages\\tensorboard\\compat\\tensorflow_stub\\dtypes.py:544: FutureWarning: Passing (type, 1) or '1type' as a synonym of type is deprecated; in a future version of numpy, it will be understood as (type, (1,)) / '(1,)type'.\n",
      "  _np_quint16 = np.dtype([(\"quint16\", np.uint16, 1)])\n",
      "c:\\users\\rlisu\\anaconda3\\envs\\floatenv\\lib\\site-packages\\tensorboard\\compat\\tensorflow_stub\\dtypes.py:545: FutureWarning: Passing (type, 1) or '1type' as a synonym of type is deprecated; in a future version of numpy, it will be understood as (type, (1,)) / '(1,)type'.\n",
      "  _np_qint32 = np.dtype([(\"qint32\", np.int32, 1)])\n",
      "c:\\users\\rlisu\\anaconda3\\envs\\floatenv\\lib\\site-packages\\tensorboard\\compat\\tensorflow_stub\\dtypes.py:550: FutureWarning: Passing (type, 1) or '1type' as a synonym of type is deprecated; in a future version of numpy, it will be understood as (type, (1,)) / '(1,)type'.\n",
      "  np_resource = np.dtype([(\"resource\", np.ubyte, 1)])\n"
     ]
    }
   ],
   "source": [
    "import gym\n",
    "import time\n",
    "import enum\n",
    "import numpy as np\n",
    "import matplotlib.pyplot as plt\n",
    "import warnings\n",
    "from stable_baselines import DQN\n",
    "warnings.filterwarnings('ignore')\n",
    "\n",
    "water_density = 1025  # kg/m^3\n",
    "shell_vol = 0.0088  # m^3, No fluid in bladder\n",
    "bladder_max = 0.0002899  # Extra volume in m^3 from fully inflated bladder\n",
    "mass = 9.17\n",
    "bladder_steady_state = mass / water_density - shell_vol"
   ]
  },
  {
   "cell_type": "code",
   "execution_count": 2,
   "metadata": {},
   "outputs": [],
   "source": [
    "class States(enum.Enum):\n",
    "    No_Charge = 1\n",
    "    Engine_Ramp_Up = 0\n",
    "    Do_Nothing = 4\n",
    "    Charge = 2\n",
    "    \n",
    "class FSMController:\n",
    "    def __init__(self, steady_state, bladder_max):\n",
    "        self.state = States.No_Charge\n",
    "        self.steady_state = steady_state\n",
    "        self.bladder_max = bladder_max\n",
    "        \n",
    "    def update(self, state):\n",
    "        error = state[1] - state[2]\n",
    "        bladder = state[0]\n",
    "        if self.state is States.Engine_Ramp_Up:\n",
    "            if bladder >= self.bladder_max: self.state = States.Do_Nothing\n",
    "            if error > 0: self.state = States.Charge\n",
    "        elif self.state is States.Charge:\n",
    "            if bladder <= self.steady_state: self.state = States.No_Charge\n",
    "        elif self.state is States.Do_Nothing:\n",
    "            if error > 0: self.state = States.Charge\n",
    "        else:\n",
    "            if error < 0:\n",
    "                self.state = States.Engine_Ramp_Up\n",
    "   \n",
    "    def get_action(self):\n",
    "        return self.state.value % 3\n",
    "    \n",
    "class PDD2Controller:\n",
    "    def __init__(self, env, weights):\n",
    "        self.desired_state = np.array([bladder_steady_state, env.depth_goal, env.depth_goal, 0])\n",
    "        self.weights = weights\n",
    "    def act(self, obs):\n",
    "        val = np.round(np.dot(weights, (self.desired_state - obs)))\n",
    "        if val < 0:\n",
    "            return 0\n",
    "        elif val is 0:\n",
    "            return 1\n",
    "        else:\n",
    "            return 2\n",
    "        "
   ]
  },
  {
   "cell_type": "code",
   "execution_count": 3,
   "metadata": {},
   "outputs": [
    {
     "name": "stdout",
     "output_type": "stream",
     "text": [
      "170928.30530160424\n"
     ]
    },
    {
     "data": {
      "image/png": "[encoded data removed]",
      "text/plain": [
       "<Figure size 432x288 with 1 Axes>"
      ]
     },
     "metadata": {
      "needs_background": "light"
     },
     "output_type": "display_data"
    }
   ],
   "source": [
    "env = gym.make('float_env:float-v0', scale=600, random_start=False)\n",
    "obs = env.reset()\n",
    "x_axis = np.arange(env.end_time)\n",
    "controller = FSMController(bladder_steady_state, bladder_max)\n",
    "y_axis = np.array([])\n",
    "x_axis = np.arange(3000)\n",
    "state_goal = 300 * np.ones(3000)\n",
    "while True:\n",
    "    obs, reward, done, dic = env.step(controller.get_action())\n",
    "    controller.update(obs)\n",
    "    y_axis = np.append(y_axis, obs[2])\n",
    "    if done:\n",
    "        break\n",
    "plt.plot(x_axis, y_axis)\n",
    "print(np.sum(np.abs(y_axis - state_goal)))"
   ]
  },
  {
   "cell_type": "code",
   "execution_count": 22,
   "metadata": {},
   "outputs": [
    {
     "name": "stdout",
     "output_type": "stream",
     "text": [
      "150605.67102674936\n"
     ]
    },
    {
     "data": {
      "image/png": "[encoded data removed]",
      "text/plain": [
       "<Figure size 432x288 with 1 Axes>"
      ]
     },
     "metadata": {
      "needs_background": "light"
     },
     "output_type": "display_data"
    }
   ],
   "source": [
    "weights = np.array([-180000, 0, 1, 50])\n",
    "obs = env.reset()\n",
    "controller = PDD2Controller(env, weights)\n",
    "y_axis = np.array([])\n",
    "while True:\n",
    "    obs, reward, done, dic = env.step(controller.act(obs))\n",
    "    y_axis = np.append(y_axis, obs[2])\n",
    "    if done:\n",
    "        break\n",
    "plt.plot(x_axis, y_axis)\n",
    "print(np.sum(np.abs(y_axis - state_goal)))"
   ]
  },
  {
   "cell_type": "code",
   "execution_count": 10,
   "metadata": {},
   "outputs": [
    {
     "name": "stdout",
     "output_type": "stream",
     "text": [
      "Loading a model without an environment, this model cannot be trained until it has a valid environment.\n"
     ]
    }
   ],
   "source": [
    "dqn_model = DQN.load(\"dqn_float.zip\")"
   ]
  },
  {
   "cell_type": "code",
   "execution_count": 13,
   "metadata": {},
   "outputs": [
    {
     "name": "stdout",
     "output_type": "stream",
     "text": [
      "211507.28810094472\n"
     ]
    },
    {
     "data": {
      "image/png": "[encoded data removed]",
      "text/plain": [
       "<Figure size 432x288 with 1 Axes>"
      ]
     },
     "metadata": {
      "needs_background": "light"
     },
     "output_type": "display_data"
    }
   ],
   "source": [
    "obs = env.reset()\n",
    "y_axis = np.array([])\n",
    "while True:\n",
    "    action, states = dqn_model.predict(obs)\n",
    "    obs, reward, done, dic = env.step(action)\n",
    "    y_axis = np.append(y_axis, obs[2])\n",
    "    if done:\n",
    "        break\n",
    "plt.plot(x_axis, y_axis)\n",
    "print(np.sum(np.abs(y_axis - state_goal)))"
   ]
  },
  {
   "cell_type": "code",
   "execution_count": 14,
   "metadata": {},
   "outputs": [],
   "source": [
    "dqn_model.save(\"dqn_float\")"
   ]
  },
  {
   "cell_type": "code",
   "execution_count": null,
   "metadata": {},
   "outputs": [],
   "source": []
  }
 ],
 "metadata": {
  "kernelspec": {
   "display_name": "Python 3",
   "language": "python",
   "name": "python3"
  },
  "language_info": {
   "codemirror_mode": {
    "name": "ipython",
    "version": 3
   },
   "file_extension": ".py",
   "mimetype": "text/x-python",
   "name": "python",
   "nbconvert_exporter": "python",
   "pygments_lexer": "ipython3",
   "version": "3.7.7"
  }
 },
 "nbformat": 4,
 "nbformat_minor": 2
}
